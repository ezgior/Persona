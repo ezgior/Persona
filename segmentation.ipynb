{
  "nbformat": 4,
  "nbformat_minor": 0,
  "metadata": {
    "colab": {
      "name": "segmentation.ipynb",
      "provenance": [],
      "authorship_tag": "ABX9TyNLeAtCV0T1GgVlCaNfYW1Z",
      "include_colab_link": true
    },
    "kernelspec": {
      "name": "python3",
      "display_name": "Python 3"
    },
    "language_info": {
      "name": "python"
    }
  },
  "cells": [
    {
      "cell_type": "markdown",
      "metadata": {
        "id": "view-in-github",
        "colab_type": "text"
      },
      "source": [
        "<a href=\"https://colab.research.google.com/github/ezgior/Persona/blob/main/segmentation.ipynb\" target=\"_parent\"><img src=\"https://colab.research.google.com/assets/colab-badge.svg\" alt=\"Open In Colab\"/></a>"
      ]
    },
    {
      "cell_type": "markdown",
      "metadata": {
        "id": "r6WDsG3znZNS"
      },
      "source": [
        "# Customer Segmentation\n",
        "\n"
      ]
    },
    {
      "cell_type": "code",
      "metadata": {
        "id": "ZtuyjxEnwfYQ"
      },
      "source": [
        "import numpy as np\n",
        "import pandas as pd\n"
      ],
      "execution_count": 1,
      "outputs": []
    },
    {
      "cell_type": "code",
      "metadata": {
        "id": "UtLCVJbqqM48"
      },
      "source": [
        "def check_df(dataframe, head=5):\n",
        "    print(\"##################### Shape #####################\")\n",
        "    print(dataframe.shape)\n",
        "    print(\"##################### Types #####################\")\n",
        "    print(dataframe.dtypes)\n",
        "    print(\"##################### Head #####################\")\n",
        "    print(dataframe.head(head))\n",
        "    print(\"##################### Tail #####################\")\n",
        "    print(dataframe.tail(head))\n",
        "    print(\"##################### NA #####################\")\n",
        "    print(dataframe.isnull().sum())\n",
        "    print(\"##################### Quantiles #####################\")\n",
        "    print(dataframe.quantile([0, 0.05, 0.50, 0.95, 0.99, 1]).T)\n"
      ],
      "execution_count": 15,
      "outputs": []
    },
    {
      "cell_type": "code",
      "metadata": {
        "id": "oMYYlHxcoLah"
      },
      "source": [
        "df = pd.read_csv('sample_data/persona.csv')\n"
      ],
      "execution_count": 3,
      "outputs": []
    },
    {
      "cell_type": "code",
      "metadata": {
        "colab": {
          "base_uri": "https://localhost:8080/"
        },
        "id": "q_Ic4FWqqSMe",
        "outputId": "63c7f59a-976d-4104-de9d-4d5f64bdc78c"
      },
      "source": [
        "check_df(df)"
      ],
      "execution_count": 16,
      "outputs": [
        {
          "output_type": "stream",
          "name": "stdout",
          "text": [
            "##################### Shape #####################\n",
            "(5000, 5)\n",
            "##################### Types #####################\n",
            "PRICE       int64\n",
            "SOURCE     object\n",
            "SEX        object\n",
            "COUNTRY    object\n",
            "AGE         int64\n",
            "dtype: object\n",
            "##################### Head #####################\n",
            "   PRICE   SOURCE   SEX COUNTRY  AGE\n",
            "0     39  android  male     bra   17\n",
            "1     39  android  male     bra   17\n",
            "2     49  android  male     bra   17\n",
            "3     29  android  male     tur   17\n",
            "4     49  android  male     tur   17\n",
            "##################### Tail #####################\n",
            "      PRICE   SOURCE     SEX COUNTRY  AGE\n",
            "4995     29  android  female     bra   31\n",
            "4996     29  android  female     bra   31\n",
            "4997     29  android  female     bra   31\n",
            "4998     39  android  female     bra   31\n",
            "4999     29  android  female     bra   31\n",
            "##################### NA #####################\n",
            "PRICE      0\n",
            "SOURCE     0\n",
            "SEX        0\n",
            "COUNTRY    0\n",
            "AGE        0\n",
            "dtype: int64\n",
            "##################### Quantiles #####################\n",
            "       0.00  0.05  0.50  0.95  0.99  1.00\n",
            "PRICE   9.0  19.0  39.0  49.0  59.0  59.0\n",
            "AGE    15.0  15.0  21.0  43.0  53.0  66.0\n"
          ]
        }
      ]
    },
    {
      "cell_type": "code",
      "metadata": {
        "colab": {
          "base_uri": "https://localhost:8080/",
          "height": 206
        },
        "id": "OkoVNLqMoR4F",
        "outputId": "3d04a4e2-9bef-431f-8129-1dee4768f3f5"
      },
      "source": [
        "df.head()\n"
      ],
      "execution_count": 4,
      "outputs": [
        {
          "output_type": "execute_result",
          "data": {
            "text/html": [
              "<div>\n",
              "<style scoped>\n",
              "    .dataframe tbody tr th:only-of-type {\n",
              "        vertical-align: middle;\n",
              "    }\n",
              "\n",
              "    .dataframe tbody tr th {\n",
              "        vertical-align: top;\n",
              "    }\n",
              "\n",
              "    .dataframe thead th {\n",
              "        text-align: right;\n",
              "    }\n",
              "</style>\n",
              "<table border=\"1\" class=\"dataframe\">\n",
              "  <thead>\n",
              "    <tr style=\"text-align: right;\">\n",
              "      <th></th>\n",
              "      <th>PRICE</th>\n",
              "      <th>SOURCE</th>\n",
              "      <th>SEX</th>\n",
              "      <th>COUNTRY</th>\n",
              "      <th>AGE</th>\n",
              "    </tr>\n",
              "  </thead>\n",
              "  <tbody>\n",
              "    <tr>\n",
              "      <th>0</th>\n",
              "      <td>39</td>\n",
              "      <td>android</td>\n",
              "      <td>male</td>\n",
              "      <td>bra</td>\n",
              "      <td>17</td>\n",
              "    </tr>\n",
              "    <tr>\n",
              "      <th>1</th>\n",
              "      <td>39</td>\n",
              "      <td>android</td>\n",
              "      <td>male</td>\n",
              "      <td>bra</td>\n",
              "      <td>17</td>\n",
              "    </tr>\n",
              "    <tr>\n",
              "      <th>2</th>\n",
              "      <td>49</td>\n",
              "      <td>android</td>\n",
              "      <td>male</td>\n",
              "      <td>bra</td>\n",
              "      <td>17</td>\n",
              "    </tr>\n",
              "    <tr>\n",
              "      <th>3</th>\n",
              "      <td>29</td>\n",
              "      <td>android</td>\n",
              "      <td>male</td>\n",
              "      <td>tur</td>\n",
              "      <td>17</td>\n",
              "    </tr>\n",
              "    <tr>\n",
              "      <th>4</th>\n",
              "      <td>49</td>\n",
              "      <td>android</td>\n",
              "      <td>male</td>\n",
              "      <td>tur</td>\n",
              "      <td>17</td>\n",
              "    </tr>\n",
              "  </tbody>\n",
              "</table>\n",
              "</div>"
            ],
            "text/plain": [
              "   PRICE   SOURCE   SEX COUNTRY  AGE\n",
              "0     39  android  male     bra   17\n",
              "1     39  android  male     bra   17\n",
              "2     49  android  male     bra   17\n",
              "3     29  android  male     tur   17\n",
              "4     49  android  male     tur   17"
            ]
          },
          "metadata": {},
          "execution_count": 4
        }
      ]
    },
    {
      "cell_type": "code",
      "metadata": {
        "colab": {
          "base_uri": "https://localhost:8080/"
        },
        "id": "GMJKVpUyob3_",
        "outputId": "c2bfefd9-cffb-463f-d240-dd4ee4bf779c"
      },
      "source": [
        "df.shape\n"
      ],
      "execution_count": 7,
      "outputs": [
        {
          "output_type": "execute_result",
          "data": {
            "text/plain": [
              "(5000, 5)"
            ]
          },
          "metadata": {},
          "execution_count": 7
        }
      ]
    },
    {
      "cell_type": "code",
      "metadata": {
        "colab": {
          "base_uri": "https://localhost:8080/",
          "height": 112
        },
        "id": "IJsKsFYUonNj",
        "outputId": "a985c4b8-11d2-403e-db90-dc3764c2729c"
      },
      "source": [
        "df.describe().T\n"
      ],
      "execution_count": 9,
      "outputs": [
        {
          "output_type": "execute_result",
          "data": {
            "text/html": [
              "<div>\n",
              "<style scoped>\n",
              "    .dataframe tbody tr th:only-of-type {\n",
              "        vertical-align: middle;\n",
              "    }\n",
              "\n",
              "    .dataframe tbody tr th {\n",
              "        vertical-align: top;\n",
              "    }\n",
              "\n",
              "    .dataframe thead th {\n",
              "        text-align: right;\n",
              "    }\n",
              "</style>\n",
              "<table border=\"1\" class=\"dataframe\">\n",
              "  <thead>\n",
              "    <tr style=\"text-align: right;\">\n",
              "      <th></th>\n",
              "      <th>count</th>\n",
              "      <th>mean</th>\n",
              "      <th>std</th>\n",
              "      <th>min</th>\n",
              "      <th>25%</th>\n",
              "      <th>50%</th>\n",
              "      <th>75%</th>\n",
              "      <th>max</th>\n",
              "    </tr>\n",
              "  </thead>\n",
              "  <tbody>\n",
              "    <tr>\n",
              "      <th>PRICE</th>\n",
              "      <td>5000.0</td>\n",
              "      <td>34.1320</td>\n",
              "      <td>12.464897</td>\n",
              "      <td>9.0</td>\n",
              "      <td>29.0</td>\n",
              "      <td>39.0</td>\n",
              "      <td>39.0</td>\n",
              "      <td>59.0</td>\n",
              "    </tr>\n",
              "    <tr>\n",
              "      <th>AGE</th>\n",
              "      <td>5000.0</td>\n",
              "      <td>23.5814</td>\n",
              "      <td>8.995908</td>\n",
              "      <td>15.0</td>\n",
              "      <td>17.0</td>\n",
              "      <td>21.0</td>\n",
              "      <td>27.0</td>\n",
              "      <td>66.0</td>\n",
              "    </tr>\n",
              "  </tbody>\n",
              "</table>\n",
              "</div>"
            ],
            "text/plain": [
              "        count     mean        std   min   25%   50%   75%   max\n",
              "PRICE  5000.0  34.1320  12.464897   9.0  29.0  39.0  39.0  59.0\n",
              "AGE    5000.0  23.5814   8.995908  15.0  17.0  21.0  27.0  66.0"
            ]
          },
          "metadata": {},
          "execution_count": 9
        }
      ]
    },
    {
      "cell_type": "code",
      "metadata": {
        "colab": {
          "base_uri": "https://localhost:8080/",
          "height": 423
        },
        "id": "VX8P_nENoucs",
        "outputId": "f22a3200-c711-487c-9e77-733e6181ad7c"
      },
      "source": [
        "df.columns\n",
        "df.reset_index()\n"
      ],
      "execution_count": 10,
      "outputs": [
        {
          "output_type": "execute_result",
          "data": {
            "text/html": [
              "<div>\n",
              "<style scoped>\n",
              "    .dataframe tbody tr th:only-of-type {\n",
              "        vertical-align: middle;\n",
              "    }\n",
              "\n",
              "    .dataframe tbody tr th {\n",
              "        vertical-align: top;\n",
              "    }\n",
              "\n",
              "    .dataframe thead th {\n",
              "        text-align: right;\n",
              "    }\n",
              "</style>\n",
              "<table border=\"1\" class=\"dataframe\">\n",
              "  <thead>\n",
              "    <tr style=\"text-align: right;\">\n",
              "      <th></th>\n",
              "      <th>index</th>\n",
              "      <th>PRICE</th>\n",
              "      <th>SOURCE</th>\n",
              "      <th>SEX</th>\n",
              "      <th>COUNTRY</th>\n",
              "      <th>AGE</th>\n",
              "    </tr>\n",
              "  </thead>\n",
              "  <tbody>\n",
              "    <tr>\n",
              "      <th>0</th>\n",
              "      <td>0</td>\n",
              "      <td>39</td>\n",
              "      <td>android</td>\n",
              "      <td>male</td>\n",
              "      <td>bra</td>\n",
              "      <td>17</td>\n",
              "    </tr>\n",
              "    <tr>\n",
              "      <th>1</th>\n",
              "      <td>1</td>\n",
              "      <td>39</td>\n",
              "      <td>android</td>\n",
              "      <td>male</td>\n",
              "      <td>bra</td>\n",
              "      <td>17</td>\n",
              "    </tr>\n",
              "    <tr>\n",
              "      <th>2</th>\n",
              "      <td>2</td>\n",
              "      <td>49</td>\n",
              "      <td>android</td>\n",
              "      <td>male</td>\n",
              "      <td>bra</td>\n",
              "      <td>17</td>\n",
              "    </tr>\n",
              "    <tr>\n",
              "      <th>3</th>\n",
              "      <td>3</td>\n",
              "      <td>29</td>\n",
              "      <td>android</td>\n",
              "      <td>male</td>\n",
              "      <td>tur</td>\n",
              "      <td>17</td>\n",
              "    </tr>\n",
              "    <tr>\n",
              "      <th>4</th>\n",
              "      <td>4</td>\n",
              "      <td>49</td>\n",
              "      <td>android</td>\n",
              "      <td>male</td>\n",
              "      <td>tur</td>\n",
              "      <td>17</td>\n",
              "    </tr>\n",
              "    <tr>\n",
              "      <th>...</th>\n",
              "      <td>...</td>\n",
              "      <td>...</td>\n",
              "      <td>...</td>\n",
              "      <td>...</td>\n",
              "      <td>...</td>\n",
              "      <td>...</td>\n",
              "    </tr>\n",
              "    <tr>\n",
              "      <th>4995</th>\n",
              "      <td>4995</td>\n",
              "      <td>29</td>\n",
              "      <td>android</td>\n",
              "      <td>female</td>\n",
              "      <td>bra</td>\n",
              "      <td>31</td>\n",
              "    </tr>\n",
              "    <tr>\n",
              "      <th>4996</th>\n",
              "      <td>4996</td>\n",
              "      <td>29</td>\n",
              "      <td>android</td>\n",
              "      <td>female</td>\n",
              "      <td>bra</td>\n",
              "      <td>31</td>\n",
              "    </tr>\n",
              "    <tr>\n",
              "      <th>4997</th>\n",
              "      <td>4997</td>\n",
              "      <td>29</td>\n",
              "      <td>android</td>\n",
              "      <td>female</td>\n",
              "      <td>bra</td>\n",
              "      <td>31</td>\n",
              "    </tr>\n",
              "    <tr>\n",
              "      <th>4998</th>\n",
              "      <td>4998</td>\n",
              "      <td>39</td>\n",
              "      <td>android</td>\n",
              "      <td>female</td>\n",
              "      <td>bra</td>\n",
              "      <td>31</td>\n",
              "    </tr>\n",
              "    <tr>\n",
              "      <th>4999</th>\n",
              "      <td>4999</td>\n",
              "      <td>29</td>\n",
              "      <td>android</td>\n",
              "      <td>female</td>\n",
              "      <td>bra</td>\n",
              "      <td>31</td>\n",
              "    </tr>\n",
              "  </tbody>\n",
              "</table>\n",
              "<p>5000 rows × 6 columns</p>\n",
              "</div>"
            ],
            "text/plain": [
              "      index  PRICE   SOURCE     SEX COUNTRY  AGE\n",
              "0         0     39  android    male     bra   17\n",
              "1         1     39  android    male     bra   17\n",
              "2         2     49  android    male     bra   17\n",
              "3         3     29  android    male     tur   17\n",
              "4         4     49  android    male     tur   17\n",
              "...     ...    ...      ...     ...     ...  ...\n",
              "4995   4995     29  android  female     bra   31\n",
              "4996   4996     29  android  female     bra   31\n",
              "4997   4997     29  android  female     bra   31\n",
              "4998   4998     39  android  female     bra   31\n",
              "4999   4999     29  android  female     bra   31\n",
              "\n",
              "[5000 rows x 6 columns]"
            ]
          },
          "metadata": {},
          "execution_count": 10
        }
      ]
    },
    {
      "cell_type": "code",
      "metadata": {
        "colab": {
          "base_uri": "https://localhost:8080/"
        },
        "id": "Rj0dI7jko4kT",
        "outputId": "5893126c-0546-4e2b-9aa4-e418ac610421"
      },
      "source": [
        "\n",
        "df.isnull().sum()"
      ],
      "execution_count": 11,
      "outputs": [
        {
          "output_type": "execute_result",
          "data": {
            "text/plain": [
              "PRICE      0\n",
              "SOURCE     0\n",
              "SEX        0\n",
              "COUNTRY    0\n",
              "AGE        0\n",
              "dtype: int64"
            ]
          },
          "metadata": {},
          "execution_count": 11
        }
      ]
    },
    {
      "cell_type": "code",
      "metadata": {
        "colab": {
          "base_uri": "https://localhost:8080/",
          "height": 237
        },
        "id": "lyjaTiLeo7-5",
        "outputId": "1a3694f3-5294-4504-fbd2-41b26c4c7094"
      },
      "source": [
        "agg_df = df.groupby([\"COUNTRY\",\"SOURCE\",\"SEX\",\"AGE\"]).mean().sort_values(by =\"PRICE\", ascending = False)\n",
        "agg_df.head()"
      ],
      "execution_count": 14,
      "outputs": [
        {
          "output_type": "execute_result",
          "data": {
            "text/html": [
              "<div>\n",
              "<style scoped>\n",
              "    .dataframe tbody tr th:only-of-type {\n",
              "        vertical-align: middle;\n",
              "    }\n",
              "\n",
              "    .dataframe tbody tr th {\n",
              "        vertical-align: top;\n",
              "    }\n",
              "\n",
              "    .dataframe thead th {\n",
              "        text-align: right;\n",
              "    }\n",
              "</style>\n",
              "<table border=\"1\" class=\"dataframe\">\n",
              "  <thead>\n",
              "    <tr style=\"text-align: right;\">\n",
              "      <th></th>\n",
              "      <th></th>\n",
              "      <th></th>\n",
              "      <th></th>\n",
              "      <th>PRICE</th>\n",
              "    </tr>\n",
              "    <tr>\n",
              "      <th>COUNTRY</th>\n",
              "      <th>SOURCE</th>\n",
              "      <th>SEX</th>\n",
              "      <th>AGE</th>\n",
              "      <th></th>\n",
              "    </tr>\n",
              "  </thead>\n",
              "  <tbody>\n",
              "    <tr>\n",
              "      <th>bra</th>\n",
              "      <th>android</th>\n",
              "      <th>male</th>\n",
              "      <th>46</th>\n",
              "      <td>59.0</td>\n",
              "    </tr>\n",
              "    <tr>\n",
              "      <th>usa</th>\n",
              "      <th>android</th>\n",
              "      <th>male</th>\n",
              "      <th>36</th>\n",
              "      <td>59.0</td>\n",
              "    </tr>\n",
              "    <tr>\n",
              "      <th>fra</th>\n",
              "      <th>android</th>\n",
              "      <th>female</th>\n",
              "      <th>24</th>\n",
              "      <td>59.0</td>\n",
              "    </tr>\n",
              "    <tr>\n",
              "      <th>usa</th>\n",
              "      <th>ios</th>\n",
              "      <th>male</th>\n",
              "      <th>32</th>\n",
              "      <td>54.0</td>\n",
              "    </tr>\n",
              "    <tr>\n",
              "      <th>deu</th>\n",
              "      <th>android</th>\n",
              "      <th>female</th>\n",
              "      <th>36</th>\n",
              "      <td>49.0</td>\n",
              "    </tr>\n",
              "  </tbody>\n",
              "</table>\n",
              "</div>"
            ],
            "text/plain": [
              "                            PRICE\n",
              "COUNTRY SOURCE  SEX    AGE       \n",
              "bra     android male   46    59.0\n",
              "usa     android male   36    59.0\n",
              "fra     android female 24    59.0\n",
              "usa     ios     male   32    54.0\n",
              "deu     android female 36    49.0"
            ]
          },
          "metadata": {},
          "execution_count": 14
        }
      ]
    },
    {
      "cell_type": "code",
      "metadata": {
        "colab": {
          "base_uri": "https://localhost:8080/",
          "height": 206
        },
        "id": "cEFCnW5sq2em",
        "outputId": "0ed2decc-47a3-40c3-e85a-7570ce35ef55"
      },
      "source": [
        "\n",
        "agg_df = agg_df.reset_index()\n",
        "agg_df.head()"
      ],
      "execution_count": 17,
      "outputs": [
        {
          "output_type": "execute_result",
          "data": {
            "text/html": [
              "<div>\n",
              "<style scoped>\n",
              "    .dataframe tbody tr th:only-of-type {\n",
              "        vertical-align: middle;\n",
              "    }\n",
              "\n",
              "    .dataframe tbody tr th {\n",
              "        vertical-align: top;\n",
              "    }\n",
              "\n",
              "    .dataframe thead th {\n",
              "        text-align: right;\n",
              "    }\n",
              "</style>\n",
              "<table border=\"1\" class=\"dataframe\">\n",
              "  <thead>\n",
              "    <tr style=\"text-align: right;\">\n",
              "      <th></th>\n",
              "      <th>COUNTRY</th>\n",
              "      <th>SOURCE</th>\n",
              "      <th>SEX</th>\n",
              "      <th>AGE</th>\n",
              "      <th>PRICE</th>\n",
              "    </tr>\n",
              "  </thead>\n",
              "  <tbody>\n",
              "    <tr>\n",
              "      <th>0</th>\n",
              "      <td>bra</td>\n",
              "      <td>android</td>\n",
              "      <td>male</td>\n",
              "      <td>46</td>\n",
              "      <td>59.0</td>\n",
              "    </tr>\n",
              "    <tr>\n",
              "      <th>1</th>\n",
              "      <td>usa</td>\n",
              "      <td>android</td>\n",
              "      <td>male</td>\n",
              "      <td>36</td>\n",
              "      <td>59.0</td>\n",
              "    </tr>\n",
              "    <tr>\n",
              "      <th>2</th>\n",
              "      <td>fra</td>\n",
              "      <td>android</td>\n",
              "      <td>female</td>\n",
              "      <td>24</td>\n",
              "      <td>59.0</td>\n",
              "    </tr>\n",
              "    <tr>\n",
              "      <th>3</th>\n",
              "      <td>usa</td>\n",
              "      <td>ios</td>\n",
              "      <td>male</td>\n",
              "      <td>32</td>\n",
              "      <td>54.0</td>\n",
              "    </tr>\n",
              "    <tr>\n",
              "      <th>4</th>\n",
              "      <td>deu</td>\n",
              "      <td>android</td>\n",
              "      <td>female</td>\n",
              "      <td>36</td>\n",
              "      <td>49.0</td>\n",
              "    </tr>\n",
              "  </tbody>\n",
              "</table>\n",
              "</div>"
            ],
            "text/plain": [
              "  COUNTRY   SOURCE     SEX  AGE  PRICE\n",
              "0     bra  android    male   46   59.0\n",
              "1     usa  android    male   36   59.0\n",
              "2     fra  android  female   24   59.0\n",
              "3     usa      ios    male   32   54.0\n",
              "4     deu  android  female   36   49.0"
            ]
          },
          "metadata": {},
          "execution_count": 17
        }
      ]
    },
    {
      "cell_type": "code",
      "metadata": {
        "id": "qSn4vsZsqzLe"
      },
      "source": [
        "mylabels = ['0_18', '19_23', '24_30', '31_40', '41_' + str(agg_df[\"AGE\"].max())]"
      ],
      "execution_count": 18,
      "outputs": []
    },
    {
      "cell_type": "code",
      "metadata": {
        "colab": {
          "base_uri": "https://localhost:8080/",
          "height": 206
        },
        "id": "gNK_ukBXq_gN",
        "outputId": "a4fe0de7-c4cc-40dc-f14d-580fc537a0d1"
      },
      "source": [
        "bins = [0, 18, 23, 30, 40, agg_df[\"AGE\"].max()]\n",
        "agg_df[\"age_cat\"] = pd.cut(agg_df[\"AGE\"], bins, labels=mylabels)\n",
        "agg_df.head()"
      ],
      "execution_count": 20,
      "outputs": [
        {
          "output_type": "execute_result",
          "data": {
            "text/html": [
              "<div>\n",
              "<style scoped>\n",
              "    .dataframe tbody tr th:only-of-type {\n",
              "        vertical-align: middle;\n",
              "    }\n",
              "\n",
              "    .dataframe tbody tr th {\n",
              "        vertical-align: top;\n",
              "    }\n",
              "\n",
              "    .dataframe thead th {\n",
              "        text-align: right;\n",
              "    }\n",
              "</style>\n",
              "<table border=\"1\" class=\"dataframe\">\n",
              "  <thead>\n",
              "    <tr style=\"text-align: right;\">\n",
              "      <th></th>\n",
              "      <th>COUNTRY</th>\n",
              "      <th>SOURCE</th>\n",
              "      <th>SEX</th>\n",
              "      <th>AGE</th>\n",
              "      <th>PRICE</th>\n",
              "      <th>age_cat</th>\n",
              "    </tr>\n",
              "  </thead>\n",
              "  <tbody>\n",
              "    <tr>\n",
              "      <th>0</th>\n",
              "      <td>bra</td>\n",
              "      <td>android</td>\n",
              "      <td>male</td>\n",
              "      <td>46</td>\n",
              "      <td>59.0</td>\n",
              "      <td>41_66</td>\n",
              "    </tr>\n",
              "    <tr>\n",
              "      <th>1</th>\n",
              "      <td>usa</td>\n",
              "      <td>android</td>\n",
              "      <td>male</td>\n",
              "      <td>36</td>\n",
              "      <td>59.0</td>\n",
              "      <td>31_40</td>\n",
              "    </tr>\n",
              "    <tr>\n",
              "      <th>2</th>\n",
              "      <td>fra</td>\n",
              "      <td>android</td>\n",
              "      <td>female</td>\n",
              "      <td>24</td>\n",
              "      <td>59.0</td>\n",
              "      <td>24_30</td>\n",
              "    </tr>\n",
              "    <tr>\n",
              "      <th>3</th>\n",
              "      <td>usa</td>\n",
              "      <td>ios</td>\n",
              "      <td>male</td>\n",
              "      <td>32</td>\n",
              "      <td>54.0</td>\n",
              "      <td>31_40</td>\n",
              "    </tr>\n",
              "    <tr>\n",
              "      <th>4</th>\n",
              "      <td>deu</td>\n",
              "      <td>android</td>\n",
              "      <td>female</td>\n",
              "      <td>36</td>\n",
              "      <td>49.0</td>\n",
              "      <td>31_40</td>\n",
              "    </tr>\n",
              "  </tbody>\n",
              "</table>\n",
              "</div>"
            ],
            "text/plain": [
              "  COUNTRY   SOURCE     SEX  AGE  PRICE age_cat\n",
              "0     bra  android    male   46   59.0   41_66\n",
              "1     usa  android    male   36   59.0   31_40\n",
              "2     fra  android  female   24   59.0   24_30\n",
              "3     usa      ios    male   32   54.0   31_40\n",
              "4     deu  android  female   36   49.0   31_40"
            ]
          },
          "metadata": {},
          "execution_count": 20
        }
      ]
    },
    {
      "cell_type": "code",
      "metadata": {
        "colab": {
          "base_uri": "https://localhost:8080/",
          "height": 206
        },
        "id": "tTjyJU8xu-CT",
        "outputId": "f80a6853-853d-4aad-f54b-3138f2acd220"
      },
      "source": [
        "agg_df[\"customers_level_based\"] = [row[0].upper() + \"_\" + row[1].upper() + \"_\" + row[2].upper() + \"_\" +\n",
        "                                   row[5].upper() for row in agg_df.values]\n",
        "agg_df.head()"
      ],
      "execution_count": 23,
      "outputs": [
        {
          "output_type": "execute_result",
          "data": {
            "text/html": [
              "<div>\n",
              "<style scoped>\n",
              "    .dataframe tbody tr th:only-of-type {\n",
              "        vertical-align: middle;\n",
              "    }\n",
              "\n",
              "    .dataframe tbody tr th {\n",
              "        vertical-align: top;\n",
              "    }\n",
              "\n",
              "    .dataframe thead th {\n",
              "        text-align: right;\n",
              "    }\n",
              "</style>\n",
              "<table border=\"1\" class=\"dataframe\">\n",
              "  <thead>\n",
              "    <tr style=\"text-align: right;\">\n",
              "      <th></th>\n",
              "      <th>COUNTRY</th>\n",
              "      <th>SOURCE</th>\n",
              "      <th>SEX</th>\n",
              "      <th>AGE</th>\n",
              "      <th>PRICE</th>\n",
              "      <th>age_cat</th>\n",
              "      <th>customers_level_based</th>\n",
              "    </tr>\n",
              "  </thead>\n",
              "  <tbody>\n",
              "    <tr>\n",
              "      <th>0</th>\n",
              "      <td>bra</td>\n",
              "      <td>android</td>\n",
              "      <td>male</td>\n",
              "      <td>46</td>\n",
              "      <td>59.0</td>\n",
              "      <td>41_66</td>\n",
              "      <td>BRA_ANDROID_MALE_41_66</td>\n",
              "    </tr>\n",
              "    <tr>\n",
              "      <th>1</th>\n",
              "      <td>usa</td>\n",
              "      <td>android</td>\n",
              "      <td>male</td>\n",
              "      <td>36</td>\n",
              "      <td>59.0</td>\n",
              "      <td>31_40</td>\n",
              "      <td>USA_ANDROID_MALE_31_40</td>\n",
              "    </tr>\n",
              "    <tr>\n",
              "      <th>2</th>\n",
              "      <td>fra</td>\n",
              "      <td>android</td>\n",
              "      <td>female</td>\n",
              "      <td>24</td>\n",
              "      <td>59.0</td>\n",
              "      <td>24_30</td>\n",
              "      <td>FRA_ANDROID_FEMALE_24_30</td>\n",
              "    </tr>\n",
              "    <tr>\n",
              "      <th>3</th>\n",
              "      <td>usa</td>\n",
              "      <td>ios</td>\n",
              "      <td>male</td>\n",
              "      <td>32</td>\n",
              "      <td>54.0</td>\n",
              "      <td>31_40</td>\n",
              "      <td>USA_IOS_MALE_31_40</td>\n",
              "    </tr>\n",
              "    <tr>\n",
              "      <th>4</th>\n",
              "      <td>deu</td>\n",
              "      <td>android</td>\n",
              "      <td>female</td>\n",
              "      <td>36</td>\n",
              "      <td>49.0</td>\n",
              "      <td>31_40</td>\n",
              "      <td>DEU_ANDROID_FEMALE_31_40</td>\n",
              "    </tr>\n",
              "  </tbody>\n",
              "</table>\n",
              "</div>"
            ],
            "text/plain": [
              "  COUNTRY   SOURCE     SEX  AGE  PRICE age_cat     customers_level_based\n",
              "0     bra  android    male   46   59.0   41_66    BRA_ANDROID_MALE_41_66\n",
              "1     usa  android    male   36   59.0   31_40    USA_ANDROID_MALE_31_40\n",
              "2     fra  android  female   24   59.0   24_30  FRA_ANDROID_FEMALE_24_30\n",
              "3     usa      ios    male   32   54.0   31_40        USA_IOS_MALE_31_40\n",
              "4     deu  android  female   36   49.0   31_40  DEU_ANDROID_FEMALE_31_40"
            ]
          },
          "metadata": {},
          "execution_count": 23
        }
      ]
    },
    {
      "cell_type": "markdown",
      "metadata": {
        "id": "AWF9sT6zvs_b"
      },
      "source": [
        "Now  we have combined information of every customer in a new column."
      ]
    },
    {
      "cell_type": "code",
      "metadata": {
        "colab": {
          "base_uri": "https://localhost:8080/",
          "height": 206
        },
        "id": "9vSe_sDu0k8h",
        "outputId": "eda0ec83-931a-4dc5-9d7a-ff37b20128cb"
      },
      "source": [
        "# Remove the unnecessary columns:\n",
        "agg_df = agg_df[[\"customers_level_based\", \"PRICE\"]]\n",
        "agg_df.head()"
      ],
      "execution_count": 24,
      "outputs": [
        {
          "output_type": "execute_result",
          "data": {
            "text/html": [
              "<div>\n",
              "<style scoped>\n",
              "    .dataframe tbody tr th:only-of-type {\n",
              "        vertical-align: middle;\n",
              "    }\n",
              "\n",
              "    .dataframe tbody tr th {\n",
              "        vertical-align: top;\n",
              "    }\n",
              "\n",
              "    .dataframe thead th {\n",
              "        text-align: right;\n",
              "    }\n",
              "</style>\n",
              "<table border=\"1\" class=\"dataframe\">\n",
              "  <thead>\n",
              "    <tr style=\"text-align: right;\">\n",
              "      <th></th>\n",
              "      <th>customers_level_based</th>\n",
              "      <th>PRICE</th>\n",
              "    </tr>\n",
              "  </thead>\n",
              "  <tbody>\n",
              "    <tr>\n",
              "      <th>0</th>\n",
              "      <td>BRA_ANDROID_MALE_41_66</td>\n",
              "      <td>59.0</td>\n",
              "    </tr>\n",
              "    <tr>\n",
              "      <th>1</th>\n",
              "      <td>USA_ANDROID_MALE_31_40</td>\n",
              "      <td>59.0</td>\n",
              "    </tr>\n",
              "    <tr>\n",
              "      <th>2</th>\n",
              "      <td>FRA_ANDROID_FEMALE_24_30</td>\n",
              "      <td>59.0</td>\n",
              "    </tr>\n",
              "    <tr>\n",
              "      <th>3</th>\n",
              "      <td>USA_IOS_MALE_31_40</td>\n",
              "      <td>54.0</td>\n",
              "    </tr>\n",
              "    <tr>\n",
              "      <th>4</th>\n",
              "      <td>DEU_ANDROID_FEMALE_31_40</td>\n",
              "      <td>49.0</td>\n",
              "    </tr>\n",
              "  </tbody>\n",
              "</table>\n",
              "</div>"
            ],
            "text/plain": [
              "      customers_level_based  PRICE\n",
              "0    BRA_ANDROID_MALE_41_66   59.0\n",
              "1    USA_ANDROID_MALE_31_40   59.0\n",
              "2  FRA_ANDROID_FEMALE_24_30   59.0\n",
              "3        USA_IOS_MALE_31_40   54.0\n",
              "4  DEU_ANDROID_FEMALE_31_40   49.0"
            ]
          },
          "metadata": {},
          "execution_count": 24
        }
      ]
    },
    {
      "cell_type": "markdown",
      "metadata": {
        "id": "Gf4N_Bcd0161"
      },
      "source": [
        "Check if there is same rows in the list\n"
      ]
    },
    {
      "cell_type": "code",
      "metadata": {
        "colab": {
          "base_uri": "https://localhost:8080/"
        },
        "id": "S63_hz-j00VK",
        "outputId": "7982574e-88d6-4d32-b313-3f9caf7611f6"
      },
      "source": [
        "agg_df[\"customers_level_based\"].value_counts()"
      ],
      "execution_count": 25,
      "outputs": [
        {
          "output_type": "execute_result",
          "data": {
            "text/plain": [
              "BRA_ANDROID_FEMALE_24_30    7\n",
              "USA_IOS_FEMALE_24_30        7\n",
              "USA_ANDROID_MALE_24_30      7\n",
              "BRA_ANDROID_MALE_24_30      7\n",
              "USA_ANDROID_MALE_41_66      7\n",
              "                           ..\n",
              "CAN_ANDROID_MALE_41_66      1\n",
              "TUR_IOS_FEMALE_41_66        1\n",
              "CAN_ANDROID_FEMALE_41_66    1\n",
              "FRA_ANDROID_MALE_24_30      1\n",
              "FRA_ANDROID_FEMALE_31_40    1\n",
              "Name: customers_level_based, Length: 109, dtype: int64"
            ]
          },
          "metadata": {},
          "execution_count": 25
        }
      ]
    },
    {
      "cell_type": "markdown",
      "metadata": {
        "id": "x-4EEFBI1KYK"
      },
      "source": [
        "In order to combine them we can get their mean"
      ]
    },
    {
      "cell_type": "code",
      "metadata": {
        "colab": {
          "base_uri": "https://localhost:8080/",
          "height": 237
        },
        "id": "LiYZHnwI1VWM",
        "outputId": "750bb6b9-f3b9-4abe-c047-146519111830"
      },
      "source": [
        "agg_df = agg_df.groupby(\"customers_level_based\").agg({\"PRICE\": \"mean\"})\n",
        "agg_df.head()"
      ],
      "execution_count": 28,
      "outputs": [
        {
          "output_type": "execute_result",
          "data": {
            "text/html": [
              "<div>\n",
              "<style scoped>\n",
              "    .dataframe tbody tr th:only-of-type {\n",
              "        vertical-align: middle;\n",
              "    }\n",
              "\n",
              "    .dataframe tbody tr th {\n",
              "        vertical-align: top;\n",
              "    }\n",
              "\n",
              "    .dataframe thead th {\n",
              "        text-align: right;\n",
              "    }\n",
              "</style>\n",
              "<table border=\"1\" class=\"dataframe\">\n",
              "  <thead>\n",
              "    <tr style=\"text-align: right;\">\n",
              "      <th></th>\n",
              "      <th>PRICE</th>\n",
              "    </tr>\n",
              "    <tr>\n",
              "      <th>customers_level_based</th>\n",
              "      <th></th>\n",
              "    </tr>\n",
              "  </thead>\n",
              "  <tbody>\n",
              "    <tr>\n",
              "      <th>BRA_ANDROID_FEMALE_0_18</th>\n",
              "      <td>35.645303</td>\n",
              "    </tr>\n",
              "    <tr>\n",
              "      <th>BRA_ANDROID_FEMALE_19_23</th>\n",
              "      <td>34.077340</td>\n",
              "    </tr>\n",
              "    <tr>\n",
              "      <th>BRA_ANDROID_FEMALE_24_30</th>\n",
              "      <td>33.863946</td>\n",
              "    </tr>\n",
              "    <tr>\n",
              "      <th>BRA_ANDROID_FEMALE_31_40</th>\n",
              "      <td>34.898326</td>\n",
              "    </tr>\n",
              "    <tr>\n",
              "      <th>BRA_ANDROID_FEMALE_41_66</th>\n",
              "      <td>36.737179</td>\n",
              "    </tr>\n",
              "  </tbody>\n",
              "</table>\n",
              "</div>"
            ],
            "text/plain": [
              "                              PRICE\n",
              "customers_level_based              \n",
              "BRA_ANDROID_FEMALE_0_18   35.645303\n",
              "BRA_ANDROID_FEMALE_19_23  34.077340\n",
              "BRA_ANDROID_FEMALE_24_30  33.863946\n",
              "BRA_ANDROID_FEMALE_31_40  34.898326\n",
              "BRA_ANDROID_FEMALE_41_66  36.737179"
            ]
          },
          "metadata": {},
          "execution_count": 28
        }
      ]
    },
    {
      "cell_type": "code",
      "metadata": {
        "colab": {
          "base_uri": "https://localhost:8080/",
          "height": 206
        },
        "id": "mV35aT3i1qDv",
        "outputId": "50ca3a34-b0c9-463c-f805-7f4579e1d16f"
      },
      "source": [
        "agg_df = agg_df.reset_index()\n",
        "agg_df.head()"
      ],
      "execution_count": 29,
      "outputs": [
        {
          "output_type": "execute_result",
          "data": {
            "text/html": [
              "<div>\n",
              "<style scoped>\n",
              "    .dataframe tbody tr th:only-of-type {\n",
              "        vertical-align: middle;\n",
              "    }\n",
              "\n",
              "    .dataframe tbody tr th {\n",
              "        vertical-align: top;\n",
              "    }\n",
              "\n",
              "    .dataframe thead th {\n",
              "        text-align: right;\n",
              "    }\n",
              "</style>\n",
              "<table border=\"1\" class=\"dataframe\">\n",
              "  <thead>\n",
              "    <tr style=\"text-align: right;\">\n",
              "      <th></th>\n",
              "      <th>customers_level_based</th>\n",
              "      <th>PRICE</th>\n",
              "    </tr>\n",
              "  </thead>\n",
              "  <tbody>\n",
              "    <tr>\n",
              "      <th>0</th>\n",
              "      <td>BRA_ANDROID_FEMALE_0_18</td>\n",
              "      <td>35.645303</td>\n",
              "    </tr>\n",
              "    <tr>\n",
              "      <th>1</th>\n",
              "      <td>BRA_ANDROID_FEMALE_19_23</td>\n",
              "      <td>34.077340</td>\n",
              "    </tr>\n",
              "    <tr>\n",
              "      <th>2</th>\n",
              "      <td>BRA_ANDROID_FEMALE_24_30</td>\n",
              "      <td>33.863946</td>\n",
              "    </tr>\n",
              "    <tr>\n",
              "      <th>3</th>\n",
              "      <td>BRA_ANDROID_FEMALE_31_40</td>\n",
              "      <td>34.898326</td>\n",
              "    </tr>\n",
              "    <tr>\n",
              "      <th>4</th>\n",
              "      <td>BRA_ANDROID_FEMALE_41_66</td>\n",
              "      <td>36.737179</td>\n",
              "    </tr>\n",
              "  </tbody>\n",
              "</table>\n",
              "</div>"
            ],
            "text/plain": [
              "      customers_level_based      PRICE\n",
              "0   BRA_ANDROID_FEMALE_0_18  35.645303\n",
              "1  BRA_ANDROID_FEMALE_19_23  34.077340\n",
              "2  BRA_ANDROID_FEMALE_24_30  33.863946\n",
              "3  BRA_ANDROID_FEMALE_31_40  34.898326\n",
              "4  BRA_ANDROID_FEMALE_41_66  36.737179"
            ]
          },
          "metadata": {},
          "execution_count": 29
        }
      ]
    },
    {
      "cell_type": "code",
      "metadata": {
        "colab": {
          "base_uri": "https://localhost:8080/",
          "height": 206
        },
        "id": "-FOm9DUv1uKe",
        "outputId": "e01ea0e1-f1c2-43d7-e2ef-b0d29f20deb5"
      },
      "source": [
        "agg_df[\"SEGMENT\"] = pd.qcut(agg_df[\"PRICE\"], 4, labels=[\"D\", \"C\", \"B\", \"A\"])\n",
        "agg_df.head(5)\n",
        "agg_df.groupby(\"SEGMENT\").agg({\"PRICE\": \"mean\"})"
      ],
      "execution_count": 30,
      "outputs": [
        {
          "output_type": "execute_result",
          "data": {
            "text/html": [
              "<div>\n",
              "<style scoped>\n",
              "    .dataframe tbody tr th:only-of-type {\n",
              "        vertical-align: middle;\n",
              "    }\n",
              "\n",
              "    .dataframe tbody tr th {\n",
              "        vertical-align: top;\n",
              "    }\n",
              "\n",
              "    .dataframe thead th {\n",
              "        text-align: right;\n",
              "    }\n",
              "</style>\n",
              "<table border=\"1\" class=\"dataframe\">\n",
              "  <thead>\n",
              "    <tr style=\"text-align: right;\">\n",
              "      <th></th>\n",
              "      <th>PRICE</th>\n",
              "    </tr>\n",
              "    <tr>\n",
              "      <th>SEGMENT</th>\n",
              "      <th></th>\n",
              "    </tr>\n",
              "  </thead>\n",
              "  <tbody>\n",
              "    <tr>\n",
              "      <th>D</th>\n",
              "      <td>29.206780</td>\n",
              "    </tr>\n",
              "    <tr>\n",
              "      <th>C</th>\n",
              "      <td>33.509674</td>\n",
              "    </tr>\n",
              "    <tr>\n",
              "      <th>B</th>\n",
              "      <td>34.999645</td>\n",
              "    </tr>\n",
              "    <tr>\n",
              "      <th>A</th>\n",
              "      <td>38.691234</td>\n",
              "    </tr>\n",
              "  </tbody>\n",
              "</table>\n",
              "</div>"
            ],
            "text/plain": [
              "             PRICE\n",
              "SEGMENT           \n",
              "D        29.206780\n",
              "C        33.509674\n",
              "B        34.999645\n",
              "A        38.691234"
            ]
          },
          "metadata": {},
          "execution_count": 30
        }
      ]
    },
    {
      "cell_type": "markdown",
      "metadata": {
        "id": "hO5MwV8l21AY"
      },
      "source": [
        "Now we can learn a new customer segment using this dataframe\n",
        "\n"
      ]
    },
    {
      "cell_type": "code",
      "metadata": {
        "colab": {
          "base_uri": "https://localhost:8080/",
          "height": 81
        },
        "id": "WljrK8Me1uQb",
        "outputId": "bdb08cf4-659b-4c47-f0dd-871f5102c261"
      },
      "source": [
        "new_user = \"FRA_IOS_FEMALE_24_30\"\n",
        "agg_df[agg_df[\"customers_level_based\"] == new_user]"
      ],
      "execution_count": 32,
      "outputs": [
        {
          "output_type": "execute_result",
          "data": {
            "text/html": [
              "<div>\n",
              "<style scoped>\n",
              "    .dataframe tbody tr th:only-of-type {\n",
              "        vertical-align: middle;\n",
              "    }\n",
              "\n",
              "    .dataframe tbody tr th {\n",
              "        vertical-align: top;\n",
              "    }\n",
              "\n",
              "    .dataframe thead th {\n",
              "        text-align: right;\n",
              "    }\n",
              "</style>\n",
              "<table border=\"1\" class=\"dataframe\">\n",
              "  <thead>\n",
              "    <tr style=\"text-align: right;\">\n",
              "      <th></th>\n",
              "      <th>customers_level_based</th>\n",
              "      <th>PRICE</th>\n",
              "      <th>SEGMENT</th>\n",
              "    </tr>\n",
              "  </thead>\n",
              "  <tbody>\n",
              "    <tr>\n",
              "      <th>62</th>\n",
              "      <td>FRA_IOS_FEMALE_24_30</td>\n",
              "      <td>27.714286</td>\n",
              "      <td>D</td>\n",
              "    </tr>\n",
              "  </tbody>\n",
              "</table>\n",
              "</div>"
            ],
            "text/plain": [
              "   customers_level_based      PRICE SEGMENT\n",
              "62  FRA_IOS_FEMALE_24_30  27.714286       D"
            ]
          },
          "metadata": {},
          "execution_count": 32
        }
      ]
    }
  ]
}