{
  "nbformat": 4,
  "nbformat_minor": 0,
  "metadata": {
    "colab": {
      "name": "Recommender.ipynb",
      "provenance": [],
      "authorship_tag": "ABX9TyNisBLEnZCJN76KjYswEMPt",
      "include_colab_link": true
    },
    "kernelspec": {
      "name": "python3",
      "display_name": "Python 3"
    },
    "language_info": {
      "name": "python"
    }
  },
  "cells": [
    {
      "cell_type": "markdown",
      "metadata": {
        "id": "view-in-github",
        "colab_type": "text"
      },
      "source": [
        "<a href=\"https://colab.research.google.com/github/ezgior/Persona/blob/main/ARL%20-%20Recommender.ipynb\" target=\"_parent\"><img src=\"https://colab.research.google.com/assets/colab-badge.svg\" alt=\"Open In Colab\"/></a>"
      ]
    },
    {
      "cell_type": "markdown",
      "metadata": {
        "id": "YNLydf555yHR"
      },
      "source": [
        "# Association Rule Recommender"
      ]
    },
    {
      "cell_type": "code",
      "metadata": {
        "id": "AO9da8dE6bTT"
      },
      "source": [
        "#!pip install mlxtend\n",
        "import pandas as pd\n",
        "pd.set_option('display.max_columns', None)\n",
        "pd.set_option('display.max_rows', None)\n",
        "pd.set_option('display.width', 500)\n",
        "# çıktının tek bir satırda olmasını sağlar.\n",
        "pd.set_option('display.expand_frame_repr', False)\n",
        "from mlxtend.frequent_patterns import apriori, association_rules\n"
      ],
      "execution_count": 1,
      "outputs": []
    },
    {
      "cell_type": "code",
      "metadata": {
        "colab": {
          "base_uri": "https://localhost:8080/",
          "height": 570
        },
        "id": "YtJ_b1r07lOC",
        "outputId": "f1402e9e-223e-4bd5-c415-bae244cba313"
      },
      "source": [
        "df_ = pd.read_excel(\"sample_data/online_retail_II.xlsx\", sheet_name=\"Year 2010-2011\")\n",
        "df = df_.copy()\n",
        "df.info()\n",
        "df.head()"
      ],
      "execution_count": 7,
      "outputs": [
        {
          "output_type": "stream",
          "name": "stdout",
          "text": [
            "<class 'pandas.core.frame.DataFrame'>\n",
            "RangeIndex: 541910 entries, 0 to 541909\n",
            "Data columns (total 8 columns):\n",
            " #   Column       Non-Null Count   Dtype         \n",
            "---  ------       --------------   -----         \n",
            " 0   Invoice      541910 non-null  object        \n",
            " 1   StockCode    541910 non-null  object        \n",
            " 2   Description  540456 non-null  object        \n",
            " 3   Quantity     541910 non-null  int64         \n",
            " 4   InvoiceDate  541910 non-null  datetime64[ns]\n",
            " 5   Price        541910 non-null  float64       \n",
            " 6   Customer ID  406830 non-null  float64       \n",
            " 7   Country      541910 non-null  object        \n",
            "dtypes: datetime64[ns](1), float64(2), int64(1), object(4)\n",
            "memory usage: 33.1+ MB\n"
          ]
        },
        {
          "output_type": "execute_result",
          "data": {
            "text/html": [
              "<div>\n",
              "<style scoped>\n",
              "    .dataframe tbody tr th:only-of-type {\n",
              "        vertical-align: middle;\n",
              "    }\n",
              "\n",
              "    .dataframe tbody tr th {\n",
              "        vertical-align: top;\n",
              "    }\n",
              "\n",
              "    .dataframe thead th {\n",
              "        text-align: right;\n",
              "    }\n",
              "</style>\n",
              "<table border=\"1\" class=\"dataframe\">\n",
              "  <thead>\n",
              "    <tr style=\"text-align: right;\">\n",
              "      <th></th>\n",
              "      <th>Invoice</th>\n",
              "      <th>StockCode</th>\n",
              "      <th>Description</th>\n",
              "      <th>Quantity</th>\n",
              "      <th>InvoiceDate</th>\n",
              "      <th>Price</th>\n",
              "      <th>Customer ID</th>\n",
              "      <th>Country</th>\n",
              "    </tr>\n",
              "  </thead>\n",
              "  <tbody>\n",
              "    <tr>\n",
              "      <th>0</th>\n",
              "      <td>536365</td>\n",
              "      <td>85123A</td>\n",
              "      <td>WHITE HANGING HEART T-LIGHT HOLDER</td>\n",
              "      <td>6</td>\n",
              "      <td>2010-12-01 08:26:00</td>\n",
              "      <td>2.55</td>\n",
              "      <td>17850.0</td>\n",
              "      <td>United Kingdom</td>\n",
              "    </tr>\n",
              "    <tr>\n",
              "      <th>1</th>\n",
              "      <td>536365</td>\n",
              "      <td>71053</td>\n",
              "      <td>WHITE METAL LANTERN</td>\n",
              "      <td>6</td>\n",
              "      <td>2010-12-01 08:26:00</td>\n",
              "      <td>3.39</td>\n",
              "      <td>17850.0</td>\n",
              "      <td>United Kingdom</td>\n",
              "    </tr>\n",
              "    <tr>\n",
              "      <th>2</th>\n",
              "      <td>536365</td>\n",
              "      <td>84406B</td>\n",
              "      <td>CREAM CUPID HEARTS COAT HANGER</td>\n",
              "      <td>8</td>\n",
              "      <td>2010-12-01 08:26:00</td>\n",
              "      <td>2.75</td>\n",
              "      <td>17850.0</td>\n",
              "      <td>United Kingdom</td>\n",
              "    </tr>\n",
              "    <tr>\n",
              "      <th>3</th>\n",
              "      <td>536365</td>\n",
              "      <td>84029G</td>\n",
              "      <td>KNITTED UNION FLAG HOT WATER BOTTLE</td>\n",
              "      <td>6</td>\n",
              "      <td>2010-12-01 08:26:00</td>\n",
              "      <td>3.39</td>\n",
              "      <td>17850.0</td>\n",
              "      <td>United Kingdom</td>\n",
              "    </tr>\n",
              "    <tr>\n",
              "      <th>4</th>\n",
              "      <td>536365</td>\n",
              "      <td>84029E</td>\n",
              "      <td>RED WOOLLY HOTTIE WHITE HEART.</td>\n",
              "      <td>6</td>\n",
              "      <td>2010-12-01 08:26:00</td>\n",
              "      <td>3.39</td>\n",
              "      <td>17850.0</td>\n",
              "      <td>United Kingdom</td>\n",
              "    </tr>\n",
              "  </tbody>\n",
              "</table>\n",
              "</div>"
            ],
            "text/plain": [
              "  Invoice StockCode                          Description  Quantity         InvoiceDate  Price  Customer ID         Country\n",
              "0  536365    85123A   WHITE HANGING HEART T-LIGHT HOLDER         6 2010-12-01 08:26:00   2.55      17850.0  United Kingdom\n",
              "1  536365     71053                  WHITE METAL LANTERN         6 2010-12-01 08:26:00   3.39      17850.0  United Kingdom\n",
              "2  536365    84406B       CREAM CUPID HEARTS COAT HANGER         8 2010-12-01 08:26:00   2.75      17850.0  United Kingdom\n",
              "3  536365    84029G  KNITTED UNION FLAG HOT WATER BOTTLE         6 2010-12-01 08:26:00   3.39      17850.0  United Kingdom\n",
              "4  536365    84029E       RED WOOLLY HOTTIE WHITE HEART.         6 2010-12-01 08:26:00   3.39      17850.0  United Kingdom"
            ]
          },
          "metadata": {},
          "execution_count": 7
        }
      ]
    },
    {
      "cell_type": "code",
      "metadata": {
        "id": "flnCJC7b8HXY"
      },
      "source": [
        "def check_df(dataframe, head=5):\n",
        "    print(\"##################### Shape #####################\")\n",
        "    print(dataframe.shape)\n",
        "    print(\"##################### Types #####################\")\n",
        "    print(dataframe.dtypes)\n",
        "    print(\"##################### Head #####################\")\n",
        "    print(dataframe.head(head))\n",
        "    print(\"##################### Tail #####################\")\n",
        "    print(dataframe.tail(head))\n",
        "    print(\"##################### NA #####################\")\n",
        "    print(dataframe.isnull().sum())\n",
        "    print(\"##################### Quantiles #####################\")\n",
        "    print(dataframe.quantile([0, 0.05, 0.50, 0.95, 0.99, 1]).T)\n"
      ],
      "execution_count": 10,
      "outputs": []
    },
    {
      "cell_type": "code",
      "metadata": {
        "colab": {
          "base_uri": "https://localhost:8080/"
        },
        "id": "JiPMq8468JQS",
        "outputId": "533e3a5c-8b83-4b1e-81fc-305c9386ae68"
      },
      "source": [
        "check_df(df)"
      ],
      "execution_count": 11,
      "outputs": [
        {
          "output_type": "stream",
          "name": "stdout",
          "text": [
            "##################### Shape #####################\n",
            "(541910, 8)\n",
            "##################### Types #####################\n",
            "Invoice                object\n",
            "StockCode              object\n",
            "Description            object\n",
            "Quantity                int64\n",
            "InvoiceDate    datetime64[ns]\n",
            "Price                 float64\n",
            "Customer ID           float64\n",
            "Country                object\n",
            "dtype: object\n",
            "##################### Head #####################\n",
            "  Invoice StockCode                          Description  Quantity         InvoiceDate  Price  Customer ID         Country\n",
            "0  536365    85123A   WHITE HANGING HEART T-LIGHT HOLDER         6 2010-12-01 08:26:00   2.55      17850.0  United Kingdom\n",
            "1  536365     71053                  WHITE METAL LANTERN         6 2010-12-01 08:26:00   3.39      17850.0  United Kingdom\n",
            "2  536365    84406B       CREAM CUPID HEARTS COAT HANGER         8 2010-12-01 08:26:00   2.75      17850.0  United Kingdom\n",
            "3  536365    84029G  KNITTED UNION FLAG HOT WATER BOTTLE         6 2010-12-01 08:26:00   3.39      17850.0  United Kingdom\n",
            "4  536365    84029E       RED WOOLLY HOTTIE WHITE HEART.         6 2010-12-01 08:26:00   3.39      17850.0  United Kingdom\n",
            "##################### Tail #####################\n",
            "       Invoice StockCode                      Description  Quantity         InvoiceDate  Price  Customer ID Country\n",
            "541905  581587     22899     CHILDREN'S APRON DOLLY GIRL          6 2011-12-09 12:50:00   2.10      12680.0  France\n",
            "541906  581587     23254    CHILDRENS CUTLERY DOLLY GIRL          4 2011-12-09 12:50:00   4.15      12680.0  France\n",
            "541907  581587     23255  CHILDRENS CUTLERY CIRCUS PARADE         4 2011-12-09 12:50:00   4.15      12680.0  France\n",
            "541908  581587     22138    BAKING SET 9 PIECE RETROSPOT          3 2011-12-09 12:50:00   4.95      12680.0  France\n",
            "541909  581587      POST                          POSTAGE         1 2011-12-09 12:50:00  18.00      12680.0  France\n",
            "##################### NA #####################\n",
            "Invoice             0\n",
            "StockCode           0\n",
            "Description      1454\n",
            "Quantity            0\n",
            "InvoiceDate         0\n",
            "Price               0\n",
            "Customer ID    135080\n",
            "Country             0\n",
            "dtype: int64\n",
            "##################### Quantiles #####################\n",
            "                 0.00      0.05      0.50      0.95     0.99     1.00\n",
            "Quantity    -80995.00      1.00      3.00     29.00    100.0  80995.0\n",
            "Price       -11062.06      0.42      2.08      9.95     18.0  38970.0\n",
            "Customer ID  12346.00  12626.00  15152.00  17905.00  18212.0  18287.0\n"
          ]
        }
      ]
    },
    {
      "cell_type": "markdown",
      "metadata": {
        "id": "UxZpxrziG5Yg"
      },
      "source": [
        "Data can be prepared for the analysis"
      ]
    },
    {
      "cell_type": "code",
      "metadata": {
        "id": "8mGpgHy08Woa"
      },
      "source": [
        "\n",
        "def outlier_thresholds(dataframe, variable):\n",
        "    quartile1 = dataframe[variable].quantile(0.01)\n",
        "    quartile3 = dataframe[variable].quantile(0.99)\n",
        "    interquantile_range = quartile3 - quartile1\n",
        "    up_limit = quartile3 + 1.5 * interquantile_range\n",
        "    low_limit = quartile1 - 1.5 * interquantile_range\n",
        "    return low_limit, up_limit\n",
        "\n",
        "def replace_with_thresholds(dataframe, variable):\n",
        "    low_limit, up_limit = outlier_thresholds(dataframe, variable)\n",
        "    dataframe.loc[(dataframe[variable] < low_limit), variable] = low_limit\n",
        "    dataframe.loc[(dataframe[variable] > up_limit), variable] = up_limit\n",
        "\n",
        "def retail_data_prep(dataframe):\n",
        "    dataframe.dropna(inplace=True)\n",
        "    dataframe = dataframe[~dataframe[\"Invoice\"].str.contains(\"C\", na=False)]\n",
        "    dataframe = dataframe[dataframe[\"Quantity\"] > 0]\n",
        "    dataframe = dataframe[dataframe[\"Price\"] > 0]\n",
        "    replace_with_thresholds(dataframe, \"Quantity\")\n",
        "    replace_with_thresholds(dataframe, \"Price\")\n",
        "    return dataframe\n"
      ],
      "execution_count": 14,
      "outputs": []
    },
    {
      "cell_type": "code",
      "metadata": {
        "id": "ibg0Wy3K8YcI"
      },
      "source": [
        "df = retail_data_prep(df)"
      ],
      "execution_count": 15,
      "outputs": []
    },
    {
      "cell_type": "code",
      "metadata": {
        "id": "c4uRJG2L8jnu"
      },
      "source": [
        "\n",
        "def create_invoice_product_df(dataframe, id=False):\n",
        "    if id:\n",
        "        return dataframe.groupby(['Invoice', \"StockCode\"])['Quantity'].sum().unstack().fillna(0). \\\n",
        "            applymap(lambda x: 1 if x > 0 else 0)\n",
        "    else:\n",
        "        return dataframe.groupby(['Invoice', 'Description'])['Quantity'].sum().unstack().fillna(0). \\\n",
        "            applymap(lambda x: 1 if x > 0 else 0)\n"
      ],
      "execution_count": 16,
      "outputs": []
    },
    {
      "cell_type": "code",
      "metadata": {
        "id": "08IqZFtY8lHc"
      },
      "source": [
        "def check_id(dataframe, stock_code):\n",
        "    product_name = dataframe[dataframe[\"StockCode\"] == stock_code][[\"Description\"]].values[0].tolist()\n",
        "    print(product_name)"
      ],
      "execution_count": 17,
      "outputs": []
    },
    {
      "cell_type": "code",
      "metadata": {
        "id": "os8UvfLXJMT3"
      },
      "source": [
        "apriori algorithm can create rules to show which products are bought together\n"
      ],
      "execution_count": null,
      "outputs": []
    },
    {
      "cell_type": "code",
      "metadata": {
        "id": "_PMEB4F082AR"
      },
      "source": [
        "def create_rules(dataframe, id=True, country=\"France\"):\n",
        "    dataframe = dataframe[dataframe['Country'] == country]\n",
        "    dataframe = create_invoice_product_df(dataframe, id)\n",
        "    frequent_itemsets = apriori(dataframe, min_support=0.01, use_colnames=True)\n",
        "    rules = association_rules(frequent_itemsets, metric=\"support\", min_threshold=0.01)\n",
        "    return rules\n"
      ],
      "execution_count": 18,
      "outputs": []
    },
    {
      "cell_type": "code",
      "metadata": {
        "colab": {
          "base_uri": "https://localhost:8080/",
          "height": 1000
        },
        "id": "fDQi8t0s85iA",
        "outputId": "3a95539a-3bf2-4d41-fe99-5f0c6ffd430c"
      },
      "source": [
        "rules_grm = create_rules(df, country=\"Germany\")\n",
        "rules_grm.sort_values(\"lift\", ascending=False).head(20)"
      ],
      "execution_count": 36,
      "outputs": [
        {
          "output_type": "execute_result",
          "data": {
            "text/html": [
              "<div>\n",
              "<style scoped>\n",
              "    .dataframe tbody tr th:only-of-type {\n",
              "        vertical-align: middle;\n",
              "    }\n",
              "\n",
              "    .dataframe tbody tr th {\n",
              "        vertical-align: top;\n",
              "    }\n",
              "\n",
              "    .dataframe thead th {\n",
              "        text-align: right;\n",
              "    }\n",
              "</style>\n",
              "<table border=\"1\" class=\"dataframe\">\n",
              "  <thead>\n",
              "    <tr style=\"text-align: right;\">\n",
              "      <th></th>\n",
              "      <th>antecedents</th>\n",
              "      <th>consequents</th>\n",
              "      <th>antecedent support</th>\n",
              "      <th>consequent support</th>\n",
              "      <th>support</th>\n",
              "      <th>confidence</th>\n",
              "      <th>lift</th>\n",
              "      <th>leverage</th>\n",
              "      <th>conviction</th>\n",
              "    </tr>\n",
              "  </thead>\n",
              "  <tbody>\n",
              "    <tr>\n",
              "      <th>39041</th>\n",
              "      <td>(21988, 21086)</td>\n",
              "      <td>(21987, 21989, 21094)</td>\n",
              "      <td>0.010941</td>\n",
              "      <td>0.010941</td>\n",
              "      <td>0.010941</td>\n",
              "      <td>1.000000</td>\n",
              "      <td>91.400000</td>\n",
              "      <td>0.010821</td>\n",
              "      <td>inf</td>\n",
              "    </tr>\n",
              "    <tr>\n",
              "      <th>39035</th>\n",
              "      <td>(21987, 21988)</td>\n",
              "      <td>(21086, 21989, 21094)</td>\n",
              "      <td>0.010941</td>\n",
              "      <td>0.010941</td>\n",
              "      <td>0.010941</td>\n",
              "      <td>1.000000</td>\n",
              "      <td>91.400000</td>\n",
              "      <td>0.010821</td>\n",
              "      <td>inf</td>\n",
              "    </tr>\n",
              "    <tr>\n",
              "      <th>39026</th>\n",
              "      <td>(21987, 21988, 21094)</td>\n",
              "      <td>(21989, 21086)</td>\n",
              "      <td>0.010941</td>\n",
              "      <td>0.010941</td>\n",
              "      <td>0.010941</td>\n",
              "      <td>1.000000</td>\n",
              "      <td>91.400000</td>\n",
              "      <td>0.010821</td>\n",
              "      <td>inf</td>\n",
              "    </tr>\n",
              "    <tr>\n",
              "      <th>24749</th>\n",
              "      <td>(21989, 21086)</td>\n",
              "      <td>(21987, 21988)</td>\n",
              "      <td>0.010941</td>\n",
              "      <td>0.010941</td>\n",
              "      <td>0.010941</td>\n",
              "      <td>1.000000</td>\n",
              "      <td>91.400000</td>\n",
              "      <td>0.010821</td>\n",
              "      <td>inf</td>\n",
              "    </tr>\n",
              "    <tr>\n",
              "      <th>39033</th>\n",
              "      <td>(21086, 21988, 21094)</td>\n",
              "      <td>(21987, 21989)</td>\n",
              "      <td>0.010941</td>\n",
              "      <td>0.010941</td>\n",
              "      <td>0.010941</td>\n",
              "      <td>1.000000</td>\n",
              "      <td>91.400000</td>\n",
              "      <td>0.010821</td>\n",
              "      <td>inf</td>\n",
              "    </tr>\n",
              "    <tr>\n",
              "      <th>24744</th>\n",
              "      <td>(21987, 21988)</td>\n",
              "      <td>(21989, 21086)</td>\n",
              "      <td>0.010941</td>\n",
              "      <td>0.010941</td>\n",
              "      <td>0.010941</td>\n",
              "      <td>1.000000</td>\n",
              "      <td>91.400000</td>\n",
              "      <td>0.010821</td>\n",
              "      <td>inf</td>\n",
              "    </tr>\n",
              "    <tr>\n",
              "      <th>24745</th>\n",
              "      <td>(21987, 21989)</td>\n",
              "      <td>(21988, 21086)</td>\n",
              "      <td>0.010941</td>\n",
              "      <td>0.010941</td>\n",
              "      <td>0.010941</td>\n",
              "      <td>1.000000</td>\n",
              "      <td>91.400000</td>\n",
              "      <td>0.010821</td>\n",
              "      <td>inf</td>\n",
              "    </tr>\n",
              "    <tr>\n",
              "      <th>39034</th>\n",
              "      <td>(21086, 21989, 21094)</td>\n",
              "      <td>(21987, 21988)</td>\n",
              "      <td>0.010941</td>\n",
              "      <td>0.010941</td>\n",
              "      <td>0.010941</td>\n",
              "      <td>1.000000</td>\n",
              "      <td>91.400000</td>\n",
              "      <td>0.010821</td>\n",
              "      <td>inf</td>\n",
              "    </tr>\n",
              "    <tr>\n",
              "      <th>39028</th>\n",
              "      <td>(21987, 21989, 21094)</td>\n",
              "      <td>(21988, 21086)</td>\n",
              "      <td>0.010941</td>\n",
              "      <td>0.010941</td>\n",
              "      <td>0.010941</td>\n",
              "      <td>1.000000</td>\n",
              "      <td>91.400000</td>\n",
              "      <td>0.010821</td>\n",
              "      <td>inf</td>\n",
              "    </tr>\n",
              "    <tr>\n",
              "      <th>39036</th>\n",
              "      <td>(21987, 21989)</td>\n",
              "      <td>(21086, 21988, 21094)</td>\n",
              "      <td>0.010941</td>\n",
              "      <td>0.010941</td>\n",
              "      <td>0.010941</td>\n",
              "      <td>1.000000</td>\n",
              "      <td>91.400000</td>\n",
              "      <td>0.010821</td>\n",
              "      <td>inf</td>\n",
              "    </tr>\n",
              "    <tr>\n",
              "      <th>24748</th>\n",
              "      <td>(21988, 21086)</td>\n",
              "      <td>(21987, 21989)</td>\n",
              "      <td>0.010941</td>\n",
              "      <td>0.010941</td>\n",
              "      <td>0.010941</td>\n",
              "      <td>1.000000</td>\n",
              "      <td>91.400000</td>\n",
              "      <td>0.010821</td>\n",
              "      <td>inf</td>\n",
              "    </tr>\n",
              "    <tr>\n",
              "      <th>39043</th>\n",
              "      <td>(21989, 21086)</td>\n",
              "      <td>(21987, 21988, 21094)</td>\n",
              "      <td>0.010941</td>\n",
              "      <td>0.010941</td>\n",
              "      <td>0.010941</td>\n",
              "      <td>1.000000</td>\n",
              "      <td>91.400000</td>\n",
              "      <td>0.010821</td>\n",
              "      <td>inf</td>\n",
              "    </tr>\n",
              "    <tr>\n",
              "      <th>49583</th>\n",
              "      <td>(21915, 22077, 22423)</td>\n",
              "      <td>(POST, 22467, 22629, 22326)</td>\n",
              "      <td>0.010941</td>\n",
              "      <td>0.013129</td>\n",
              "      <td>0.010941</td>\n",
              "      <td>1.000000</td>\n",
              "      <td>76.166667</td>\n",
              "      <td>0.010797</td>\n",
              "      <td>inf</td>\n",
              "    </tr>\n",
              "    <tr>\n",
              "      <th>42854</th>\n",
              "      <td>(22716, 22077)</td>\n",
              "      <td>(21915, 22037, 22326)</td>\n",
              "      <td>0.013129</td>\n",
              "      <td>0.010941</td>\n",
              "      <td>0.010941</td>\n",
              "      <td>0.833333</td>\n",
              "      <td>76.166667</td>\n",
              "      <td>0.010797</td>\n",
              "      <td>5.934354</td>\n",
              "    </tr>\n",
              "    <tr>\n",
              "      <th>18236</th>\n",
              "      <td>(22745, 22746)</td>\n",
              "      <td>(22747)</td>\n",
              "      <td>0.013129</td>\n",
              "      <td>0.010941</td>\n",
              "      <td>0.010941</td>\n",
              "      <td>0.833333</td>\n",
              "      <td>76.166667</td>\n",
              "      <td>0.010797</td>\n",
              "      <td>5.934354</td>\n",
              "    </tr>\n",
              "    <tr>\n",
              "      <th>3749</th>\n",
              "      <td>(22747)</td>\n",
              "      <td>(22746)</td>\n",
              "      <td>0.010941</td>\n",
              "      <td>0.013129</td>\n",
              "      <td>0.010941</td>\n",
              "      <td>1.000000</td>\n",
              "      <td>76.166667</td>\n",
              "      <td>0.010797</td>\n",
              "      <td>inf</td>\n",
              "    </tr>\n",
              "    <tr>\n",
              "      <th>45655</th>\n",
              "      <td>(22352, POST, 23254)</td>\n",
              "      <td>(22331, 23255)</td>\n",
              "      <td>0.013129</td>\n",
              "      <td>0.010941</td>\n",
              "      <td>0.010941</td>\n",
              "      <td>0.833333</td>\n",
              "      <td>76.166667</td>\n",
              "      <td>0.010797</td>\n",
              "      <td>5.934354</td>\n",
              "    </tr>\n",
              "    <tr>\n",
              "      <th>24692</th>\n",
              "      <td>(21988, 21086)</td>\n",
              "      <td>(21989, 21094)</td>\n",
              "      <td>0.010941</td>\n",
              "      <td>0.013129</td>\n",
              "      <td>0.010941</td>\n",
              "      <td>1.000000</td>\n",
              "      <td>76.166667</td>\n",
              "      <td>0.010797</td>\n",
              "      <td>inf</td>\n",
              "    </tr>\n",
              "    <tr>\n",
              "      <th>18264</th>\n",
              "      <td>(22747)</td>\n",
              "      <td>(22746, 22748)</td>\n",
              "      <td>0.010941</td>\n",
              "      <td>0.013129</td>\n",
              "      <td>0.010941</td>\n",
              "      <td>1.000000</td>\n",
              "      <td>76.166667</td>\n",
              "      <td>0.010797</td>\n",
              "      <td>inf</td>\n",
              "    </tr>\n",
              "    <tr>\n",
              "      <th>18263</th>\n",
              "      <td>(22746)</td>\n",
              "      <td>(22747, 22748)</td>\n",
              "      <td>0.013129</td>\n",
              "      <td>0.010941</td>\n",
              "      <td>0.010941</td>\n",
              "      <td>0.833333</td>\n",
              "      <td>76.166667</td>\n",
              "      <td>0.010797</td>\n",
              "      <td>5.934354</td>\n",
              "    </tr>\n",
              "  </tbody>\n",
              "</table>\n",
              "</div>"
            ],
            "text/plain": [
              "                 antecedents                  consequents  antecedent support  consequent support   support  confidence       lift  leverage  conviction\n",
              "39041         (21988, 21086)        (21987, 21989, 21094)            0.010941            0.010941  0.010941    1.000000  91.400000  0.010821         inf\n",
              "39035         (21987, 21988)        (21086, 21989, 21094)            0.010941            0.010941  0.010941    1.000000  91.400000  0.010821         inf\n",
              "39026  (21987, 21988, 21094)               (21989, 21086)            0.010941            0.010941  0.010941    1.000000  91.400000  0.010821         inf\n",
              "24749         (21989, 21086)               (21987, 21988)            0.010941            0.010941  0.010941    1.000000  91.400000  0.010821         inf\n",
              "39033  (21086, 21988, 21094)               (21987, 21989)            0.010941            0.010941  0.010941    1.000000  91.400000  0.010821         inf\n",
              "24744         (21987, 21988)               (21989, 21086)            0.010941            0.010941  0.010941    1.000000  91.400000  0.010821         inf\n",
              "24745         (21987, 21989)               (21988, 21086)            0.010941            0.010941  0.010941    1.000000  91.400000  0.010821         inf\n",
              "39034  (21086, 21989, 21094)               (21987, 21988)            0.010941            0.010941  0.010941    1.000000  91.400000  0.010821         inf\n",
              "39028  (21987, 21989, 21094)               (21988, 21086)            0.010941            0.010941  0.010941    1.000000  91.400000  0.010821         inf\n",
              "39036         (21987, 21989)        (21086, 21988, 21094)            0.010941            0.010941  0.010941    1.000000  91.400000  0.010821         inf\n",
              "24748         (21988, 21086)               (21987, 21989)            0.010941            0.010941  0.010941    1.000000  91.400000  0.010821         inf\n",
              "39043         (21989, 21086)        (21987, 21988, 21094)            0.010941            0.010941  0.010941    1.000000  91.400000  0.010821         inf\n",
              "49583  (21915, 22077, 22423)  (POST, 22467, 22629, 22326)            0.010941            0.013129  0.010941    1.000000  76.166667  0.010797         inf\n",
              "42854         (22716, 22077)        (21915, 22037, 22326)            0.013129            0.010941  0.010941    0.833333  76.166667  0.010797    5.934354\n",
              "18236         (22745, 22746)                      (22747)            0.013129            0.010941  0.010941    0.833333  76.166667  0.010797    5.934354\n",
              "3749                 (22747)                      (22746)            0.010941            0.013129  0.010941    1.000000  76.166667  0.010797         inf\n",
              "45655   (22352, POST, 23254)               (22331, 23255)            0.013129            0.010941  0.010941    0.833333  76.166667  0.010797    5.934354\n",
              "24692         (21988, 21086)               (21989, 21094)            0.010941            0.013129  0.010941    1.000000  76.166667  0.010797         inf\n",
              "18264                (22747)               (22746, 22748)            0.010941            0.013129  0.010941    1.000000  76.166667  0.010797         inf\n",
              "18263                (22746)               (22747, 22748)            0.013129            0.010941  0.010941    0.833333  76.166667  0.010797    5.934354"
            ]
          },
          "metadata": {},
          "execution_count": 36
        }
      ]
    },
    {
      "cell_type": "code",
      "metadata": {
        "colab": {
          "base_uri": "https://localhost:8080/"
        },
        "id": "Fx8-ciip9ohD",
        "outputId": "21edbf4e-7cfe-48e0-9380-cb77acedd4c3"
      },
      "source": [
        "product_id = 21987\n",
        "check_id(df, product_id)"
      ],
      "execution_count": 20,
      "outputs": [
        {
          "output_type": "stream",
          "name": "stdout",
          "text": [
            "['PACK OF 6 SKULL PAPER CUPS']\n"
          ]
        }
      ]
    },
    {
      "cell_type": "code",
      "metadata": {
        "id": "YoR6GguC9qUW"
      },
      "source": [
        "def arl_recommender(rules_df, product_id, rec_count=1):\n",
        "    sorted_rules = rules_df.sort_values(\"lift\", ascending=False)\n",
        "    recommendation_list = []\n",
        "\n",
        "    for i, product in sorted_rules[\"antecedents\"].items():\n",
        "        for j in list(product):\n",
        "            if j == product_id:\n",
        "                recommendation_list.append(list(sorted_rules.iloc[i][\"consequents\"]))\n",
        "\n",
        "    recommendation_list = list({item for item_list in recommendation_list for item in item_list})\n",
        "   \n",
        "    return recommendation_list[:rec_count]\n",
        "    "
      ],
      "execution_count": 46,
      "outputs": []
    },
    {
      "cell_type": "code",
      "metadata": {
        "colab": {
          "base_uri": "https://localhost:8080/"
        },
        "id": "UbjutoQh_W47",
        "outputId": "973c6a79-7f38-44d9-b82f-33c86a9dedde"
      },
      "source": [
        "\n",
        "arl_recommender(rules_grm, 21987, 1)"
      ],
      "execution_count": 47,
      "outputs": [
        {
          "output_type": "execute_result",
          "data": {
            "text/plain": [
              "[21124]"
            ]
          },
          "metadata": {},
          "execution_count": 47
        }
      ]
    }
  ]
}